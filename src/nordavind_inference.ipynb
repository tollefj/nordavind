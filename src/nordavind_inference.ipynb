{
 "cells": [
  {
   "cell_type": "code",
   "execution_count": 1,
   "metadata": {},
   "outputs": [
    {
     "name": "stderr",
     "output_type": "stream",
     "text": [
      "/home/tollefj/anaconda3/envs/torch/lib/python3.10/site-packages/tqdm/auto.py:21: TqdmWarning: IProgress not found. Please update jupyter and ipywidgets. See https://ipywidgets.readthedocs.io/en/stable/user_install.html\n",
      "  from .autonotebook import tqdm as notebook_tqdm\n",
      "Loading checkpoint shards: 100%|██████████| 3/3 [00:01<00:00,  1.59it/s]\n"
     ]
    }
   ],
   "source": [
    "from inference import Nordavind\n",
    "\n",
    "nordavind = Nordavind(\"tollefj/nordavind-instruct-7b-v0\", device=\"cuda:1\")"
   ]
  },
  {
   "cell_type": "code",
   "execution_count": 2,
   "metadata": {},
   "outputs": [
    {
     "name": "stdout",
     "output_type": "stream",
     "text": [
      "1. Samle inn data\n",
      "2. Forberede data\n",
      "3. Bygge modellen\n",
      "4. Trene modellen\n",
      "5. Evaluere modellen\n",
      "6. Implementere modellen<|im_end|>\n"
     ]
    }
   ],
   "source": [
    "# nordavind.generate(\"Hva er meningen med livet?\")\n",
    "nordavind.generate(\"Hvilke steg trengs for å lage en maskinlæringsmodell? Svar med en punktliste\")"
   ]
  }
 ],
 "metadata": {
  "kernelspec": {
   "display_name": "torch",
   "language": "python",
   "name": "python3"
  },
  "language_info": {
   "codemirror_mode": {
    "name": "ipython",
    "version": 3
   },
   "file_extension": ".py",
   "mimetype": "text/x-python",
   "name": "python",
   "nbconvert_exporter": "python",
   "pygments_lexer": "ipython3",
   "version": "3.10.13"
  }
 },
 "nbformat": 4,
 "nbformat_minor": 2
}
