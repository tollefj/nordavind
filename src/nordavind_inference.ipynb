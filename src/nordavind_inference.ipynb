{
 "cells": [
  {
   "cell_type": "code",
   "execution_count": null,
   "metadata": {},
   "outputs": [],
   "source": [
    "from inference import Nordavind\n",
    "\n",
    "nordavind = Nordavind(\"tollefj/nordavind-instruct-7b-v0\", device=\"cuda:1\")"
   ]
  },
  {
   "cell_type": "code",
   "execution_count": 3,
   "metadata": {},
   "outputs": [
    {
     "name": "stdout",
     "output_type": "stream",
     "text": [
      "Meningen med livet er å finne glede og formål i å skape forbindelser med andre, utforske våre lidenskaper og uttrykke vår unike individualitet.<|im_end|>\n"
     ]
    }
   ],
   "source": [
    "nordavind.generate(\"Hva er meningen med livet?\")"
   ]
  },
  {
   "cell_type": "code",
   "execution_count": 4,
   "metadata": {},
   "outputs": [
    {
     "name": "stdout",
     "output_type": "stream",
     "text": [
      "1. Samle inn data\n",
      "2. Forberede data\n",
      "3. Bygge modellen\n",
      "4. Trene modellen\n",
      "5. Evaluere modellen\n",
      "6. Implementere modellen<|im_end|>\n"
     ]
    }
   ],
   "source": [
    "nordavind.generate(\"Hvilke steg trengs for å lage en maskinlæringsmodell? Svar med en punktliste\")"
   ]
  }
 ],
 "metadata": {
  "kernelspec": {
   "display_name": "torch",
   "language": "python",
   "name": "python3"
  },
  "language_info": {
   "codemirror_mode": {
    "name": "ipython",
    "version": 3
   },
   "file_extension": ".py",
   "mimetype": "text/x-python",
   "name": "python",
   "nbconvert_exporter": "python",
   "pygments_lexer": "ipython3",
   "version": "3.10.13"
  }
 },
 "nbformat": 4,
 "nbformat_minor": 2
}
