{
 "cells": [
  {
   "cell_type": "code",
   "execution_count": null,
   "metadata": {},
   "outputs": [],
   "source": [
    "from transformers import AutoModelForCausalLM, AutoTokenizer, pipeline, TextStreamer\n",
    "import torch\n",
    "\n",
    "model_dest = \"tollefj/nordavind-instruct-7b-v0\"\n",
    "datatype = torch.float16\n",
    "tokens = 128\n",
    "model_temp = 0.75\n",
    "\n",
    "model = AutoModelForCausalLM.from_pretrained(model_dest, torch_dtype=datatype, use_cache=True, device_map=\"auto\")\n",
    "tok = AutoTokenizer.from_pretrained(model_dest)"
   ]
  },
  {
   "cell_type": "code",
   "execution_count": null,
   "metadata": {},
   "outputs": [],
   "source": [
    "streamer = TextStreamer(tok, skip_prompt=True)\n",
    "pipe = pipeline(\"text-generation\", \n",
    "                model=model,\n",
    "                tokenizer=tok,\n",
    "                torch_dtype=datatype,\n",
    "                streamer=streamer,\n",
    "                eos_token_id=tok.eos_token_id,\n",
    "                device_map=\"auto\")"
   ]
  },
  {
   "cell_type": "code",
   "execution_count": null,
   "metadata": {},
   "outputs": [],
   "source": [
    "tok.encode(\"<|im_end|>\")"
   ]
  },
  {
   "cell_type": "code",
   "execution_count": null,
   "metadata": {},
   "outputs": [],
   "source": [
    "system_message = \"\"\"Du er Nordavind, en hjelpsom assistent. Du skal svare på spørsmål og hjelpe brukere med å finne nødvendig informasjon.\"\"\"\n",
    "\n",
    "def make_prompt(instruction):\n",
    "    chat = [\n",
    "        {\"role\": \"system\", \"content\": system_message},\n",
    "        {\"role\": \"user\", \"content\": instruction},\n",
    "    ]\n",
    "    return pipe.tokenizer.apply_chat_template(\n",
    "        chat,\n",
    "        tokenize=False,\n",
    "        add_generation_prompt=True,\n",
    "    )\n",
    "    \n",
    "def pred(instruction, tokens=100, temp=model_temp):\n",
    "    prompt = make_prompt(instruction)\n",
    "    outputs = pipe(\n",
    "        prompt,\n",
    "        max_new_tokens=tokens,\n",
    "        do_sample=True,\n",
    "        temperature=temp,\n",
    "        top_k=50,\n",
    "        top_p=0.1,\n",
    "        no_repeat_ngram_size=3,\n",
    "        # eos_token_id=pipe.tokenizer.eos_token_id,\n",
    "        # pad_token_id=pipe.tokenizer.pad_token_id,\n",
    "    )\n",
    "\n",
    "pred(\"Hvilke steg trengs for å lage en maskinlæringsmodell? Svar med en punktliste\")"
   ]
  },
  {
   "cell_type": "code",
   "execution_count": null,
   "metadata": {},
   "outputs": [],
   "source": [
    "pred(\"Nevn tre ting som er typisk norsk\")"
   ]
  },
  {
   "cell_type": "code",
   "execution_count": null,
   "metadata": {},
   "outputs": [],
   "source": [
    "instruction = \"Produkt type kan være en av følgende kategorier: 'Annet/Ikke_oppgitt', 'Mobil', 'Bredbånd-mobilt', 'Bredbånd', 'Tjenester/Apper', 'Forsikring', 'E-post', 'TV' eller 'Telefoni'. Angi produkt type som det tales om her:\\n\"\n",
    "\n",
    "phonecall = \"\"\"hei du taler med _navn_. hei du jeg har problemer med dekning på telefonen min på hytta, det er ikke så bra for jeg skal gjerne være i kontakt med mine kone fordi hun er på sykehus. Ser den det er ikke så bra kan du gi meg personnumemret ditt? ja det er _anonymisert_. takk da skal jeg ta en titt, ser du har CallMi abo med 1 gigabait. Stemmer det. Ser at du har brukt op all data og derfor har din hastighet blitt redusert kraftig. Hva i helsike det kan ikke passe jeg har nesten ikke gjort noe på telefonem min. Skal jeg øke abonnementet ditt slik du får mere data denne måned? det koster 99 kroner. Ja bare gjør det da. Hei. Hei.\n",
    "\"\"\"\n",
    "user_prompt = instruction+phonecall\n",
    "\n",
    "pred(user_prompt)"
   ]
  }
 ],
 "metadata": {
  "kernelspec": {
   "display_name": "torch",
   "language": "python",
   "name": "python3"
  },
  "language_info": {
   "codemirror_mode": {
    "name": "ipython",
    "version": 3
   },
   "file_extension": ".py",
   "mimetype": "text/x-python",
   "name": "python",
   "nbconvert_exporter": "python",
   "pygments_lexer": "ipython3",
   "version": "3.10.13"
  }
 },
 "nbformat": 4,
 "nbformat_minor": 2
}
